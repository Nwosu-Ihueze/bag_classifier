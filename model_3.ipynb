{
  "nbformat": 4,
  "nbformat_minor": 0,
  "metadata": {
    "colab": {
      "name": "Untitled10.ipynb",
      "provenance": [],
      "authorship_tag": "ABX9TyMGeVWZLLsC2LlYlIu1WpC9",
      "include_colab_link": true
    },
    "kernelspec": {
      "name": "python3",
      "display_name": "Python 3"
    }
  },
  "cells": [
    {
      "cell_type": "markdown",
      "metadata": {
        "id": "view-in-github",
        "colab_type": "text"
      },
      "source": [
        "<a href=\"https://colab.research.google.com/github/Nwosu-Ihueze/bag_classifier/blob/main/model_3.ipynb\" target=\"_parent\"><img src=\"https://colab.research.google.com/assets/colab-badge.svg\" alt=\"Open In Colab\"/></a>"
      ]
    },
    {
      "cell_type": "code",
      "metadata": {
        "id": "e2cW2pI4038A"
      },
      "source": [
        ""
      ],
      "execution_count": null,
      "outputs": []
    },
    {
      "cell_type": "code",
      "metadata": {
        "colab": {
          "base_uri": "https://localhost:8080/"
        },
        "id": "EVOf83G41dX_",
        "outputId": "21072199-7239-449c-9725-332eddca9a97"
      },
      "source": [
        "from google.colab import drive\n",
        "drive.mount(\"/content/drive\")"
      ],
      "execution_count": 1,
      "outputs": [
        {
          "output_type": "stream",
          "text": [
            "Mounted at /content/drive\n"
          ],
          "name": "stdout"
        }
      ]
    },
    {
      "cell_type": "code",
      "metadata": {
        "id": "yNmKDERa1n9c"
      },
      "source": [
        "import pandas as pd\n",
        "import numpy as np\n",
        "import matplotlib.pyplot as plt"
      ],
      "execution_count": 2,
      "outputs": []
    },
    {
      "cell_type": "code",
      "metadata": {
        "id": "7zsF_t-01pam"
      },
      "source": [
        "img_dir = ('/content/drive/MyDrive/image_classifier/dataset')"
      ],
      "execution_count": 3,
      "outputs": []
    },
    {
      "cell_type": "code",
      "metadata": {
        "id": "r_hB0sx81rzP"
      },
      "source": [
        "import tensorflow as tf\n",
        "from tensorflow import keras\n",
        "from tensorflow.keras import layers\n",
        "from tensorflow.keras.models import Sequential\n",
        "from keras.preprocessing.image import ImageDataGenerator"
      ],
      "execution_count": 4,
      "outputs": []
    },
    {
      "cell_type": "code",
      "metadata": {
        "id": "O03UliYYWvvG"
      },
      "source": [
        "data_args = dict(rescale=1./255, validation_split=.20)"
      ],
      "execution_count": 8,
      "outputs": []
    },
    {
      "cell_type": "code",
      "metadata": {
        "colab": {
          "base_uri": "https://localhost:8080/"
        },
        "id": "14XZkJ1L1zpX",
        "outputId": "d8b3ef94-de7c-43df-c283-28c3ba902e68"
      },
      "source": [
        "bag_train = tf.keras.preprocessing.image.ImageDataGenerator(**data_args)\n",
        "\n",
        "train_gen = bag_train.flow_from_directory(\n",
        "img_dir,\n",
        "subset=\"training\",\n",
        "shuffle=True,\n",
        "target_size=(224, 224))"
      ],
      "execution_count": 10,
      "outputs": [
        {
          "output_type": "stream",
          "text": [
            "Found 1600 images belonging to 5 classes.\n"
          ],
          "name": "stdout"
        }
      ]
    },
    {
      "cell_type": "code",
      "metadata": {
        "colab": {
          "base_uri": "https://localhost:8080/"
        },
        "id": "1TO5Reur18eC",
        "outputId": "5bcb8a81-dce5-461c-c383-f546045c36a7"
      },
      "source": [
        "bag_val = tf.keras.preprocessing.image.ImageDataGenerator(**data_args)\n",
        "\n",
        "val_gen = bag_val.flow_from_directory(\n",
        "img_dir,\n",
        "subset=\"validation\",\n",
        "shuffle=True,\n",
        "target_size=(224, 224))"
      ],
      "execution_count": 11,
      "outputs": [
        {
          "output_type": "stream",
          "text": [
            "Found 400 images belonging to 5 classes.\n"
          ],
          "name": "stdout"
        }
      ]
    },
    {
      "cell_type": "code",
      "metadata": {
        "colab": {
          "base_uri": "https://localhost:8080/"
        },
        "id": "_Byr6ViS2AZm",
        "outputId": "c0302567-91b9-4c9d-da55-037170a6a7c2"
      },
      "source": [
        "print (train_gen.class_indices)"
      ],
      "execution_count": 13,
      "outputs": [
        {
          "output_type": "stream",
          "text": [
            "{'Backpack': 0, 'Briefcase': 1, 'Duffle': 2, 'Handbag': 3, 'Purse': 4}\n"
          ],
          "name": "stdout"
        }
      ]
    },
    {
      "cell_type": "code",
      "metadata": {
        "colab": {
          "base_uri": "https://localhost:8080/"
        },
        "id": "OV8mRQqKaEuB",
        "outputId": "420c279c-4111-4746-d1b5-0d490b115194"
      },
      "source": [
        "labels = '\\n'.join(sorted(train_gen.class_indices.keys()))\n",
        "with open('labels.txt', 'w') as f:\n",
        " f.write(labels)\n",
        "!cat labels.txt"
      ],
      "execution_count": 16,
      "outputs": [
        {
          "output_type": "stream",
          "text": [
            "Backpack\n",
            "Briefcase\n",
            "Duffle\n",
            "Handbag\n",
            "Purse"
          ],
          "name": "stdout"
        }
      ]
    },
    {
      "cell_type": "code",
      "metadata": {
        "id": "xC8sfmk8aauF"
      },
      "source": [
        "bag_model = Sequential([\n",
        "  layers.Conv2D(16, 3, padding='same', activation='relu'),\n",
        "  layers.MaxPooling2D(),\n",
        "  layers.Conv2D(32, 3, padding='same', activation='relu'),\n",
        "  layers.MaxPooling2D(),\n",
        "  layers.Conv2D(64, 3, padding='same', activation='relu'),\n",
        "  layers.MaxPooling2D(),\n",
        "  layers.Flatten(),\n",
        "  layers.Dense(128, activation='relu'),\n",
        "  layers.Dense(train_gen.num_classes, activation='softmax')\n",
        "])\n",
        "bag_model.build([None, 224, 224, 3])"
      ],
      "execution_count": 30,
      "outputs": []
    },
    {
      "cell_type": "code",
      "metadata": {
        "colab": {
          "base_uri": "https://localhost:8080/"
        },
        "id": "l_AJETijc2jU",
        "outputId": "78fdc636-b118-4191-a36a-6d8736c6728e"
      },
      "source": [
        "bag_model.summary()"
      ],
      "execution_count": 31,
      "outputs": [
        {
          "output_type": "stream",
          "text": [
            "Model: \"sequential_1\"\n",
            "_________________________________________________________________\n",
            "Layer (type)                 Output Shape              Param #   \n",
            "=================================================================\n",
            "conv2d_3 (Conv2D)            (None, 224, 224, 16)      448       \n",
            "_________________________________________________________________\n",
            "max_pooling2d_3 (MaxPooling2 (None, 112, 112, 16)      0         \n",
            "_________________________________________________________________\n",
            "conv2d_4 (Conv2D)            (None, 112, 112, 32)      4640      \n",
            "_________________________________________________________________\n",
            "max_pooling2d_4 (MaxPooling2 (None, 56, 56, 32)        0         \n",
            "_________________________________________________________________\n",
            "conv2d_5 (Conv2D)            (None, 56, 56, 64)        18496     \n",
            "_________________________________________________________________\n",
            "max_pooling2d_5 (MaxPooling2 (None, 28, 28, 64)        0         \n",
            "_________________________________________________________________\n",
            "flatten_1 (Flatten)          (None, 50176)             0         \n",
            "_________________________________________________________________\n",
            "dense_2 (Dense)              (None, 128)               6422656   \n",
            "_________________________________________________________________\n",
            "dense_3 (Dense)              (None, 5)                 645       \n",
            "=================================================================\n",
            "Total params: 6,446,885\n",
            "Trainable params: 6,446,885\n",
            "Non-trainable params: 0\n",
            "_________________________________________________________________\n"
          ],
          "name": "stdout"
        }
      ]
    },
    {
      "cell_type": "code",
      "metadata": {
        "id": "FFte525IdBc_"
      },
      "source": [
        "opt = tf.keras.optimizers.Adam(lr=0.001)\n",
        "bag_model.compile(\n",
        " optimizer=opt,\n",
        " loss='categorical_crossentropy',\n",
        " metrics=['accuracy'])"
      ],
      "execution_count": 32,
      "outputs": []
    },
    {
      "cell_type": "code",
      "metadata": {
        "colab": {
          "base_uri": "https://localhost:8080/"
        },
        "id": "vwRHYxFndW-R",
        "outputId": "0b87ece1-a633-4185-91da-58e565a5c18f"
      },
      "source": [
        "epochs=10\n",
        "history = bag_model.fit(\n",
        "  train_gen,\n",
        "  validation_data = val_gen,\n",
        "  epochs = epochs\n",
        ")\n"
      ],
      "execution_count": 33,
      "outputs": [
        {
          "output_type": "stream",
          "text": [
            "Epoch 1/10\n",
            "50/50 [==============================] - 811s 16s/step - loss: 1.7522 - accuracy: 0.3116 - val_loss: 1.3164 - val_accuracy: 0.5175\n",
            "Epoch 2/10\n",
            "50/50 [==============================] - 77s 2s/step - loss: 1.0749 - accuracy: 0.6146 - val_loss: 1.1530 - val_accuracy: 0.6000\n",
            "Epoch 3/10\n",
            "50/50 [==============================] - 77s 2s/step - loss: 0.8486 - accuracy: 0.6952 - val_loss: 1.1514 - val_accuracy: 0.5875\n",
            "Epoch 4/10\n",
            "50/50 [==============================] - 77s 2s/step - loss: 0.5616 - accuracy: 0.8050 - val_loss: 1.5793 - val_accuracy: 0.5425\n",
            "Epoch 5/10\n",
            "50/50 [==============================] - 78s 2s/step - loss: 0.3418 - accuracy: 0.8894 - val_loss: 1.3500 - val_accuracy: 0.6025\n",
            "Epoch 6/10\n",
            "50/50 [==============================] - 77s 2s/step - loss: 0.1746 - accuracy: 0.9524 - val_loss: 1.6087 - val_accuracy: 0.5775\n",
            "Epoch 7/10\n",
            "50/50 [==============================] - 78s 2s/step - loss: 0.1010 - accuracy: 0.9810 - val_loss: 1.8598 - val_accuracy: 0.5750\n",
            "Epoch 8/10\n",
            "50/50 [==============================] - 77s 2s/step - loss: 0.0562 - accuracy: 0.9882 - val_loss: 2.0459 - val_accuracy: 0.5725\n",
            "Epoch 9/10\n",
            "50/50 [==============================] - 78s 2s/step - loss: 0.0620 - accuracy: 0.9892 - val_loss: 1.9640 - val_accuracy: 0.6000\n",
            "Epoch 10/10\n",
            "50/50 [==============================] - 78s 2s/step - loss: 0.0286 - accuracy: 0.9972 - val_loss: 2.1502 - val_accuracy: 0.5750\n"
          ],
          "name": "stdout"
        }
      ]
    },
    {
      "cell_type": "code",
      "metadata": {
        "colab": {
          "base_uri": "https://localhost:8080/",
          "height": 499
        },
        "id": "DEE84Gzig9C2",
        "outputId": "1cf1bdc5-6455-4504-8a96-e1398653dc71"
      },
      "source": [
        "acc = history.history['accuracy']\n",
        "val_acc = history.history['val_accuracy']\n",
        "\n",
        "loss = history.history['loss']\n",
        "val_loss = history.history['val_loss']\n",
        "\n",
        "epochs_range = range(epochs)\n",
        "\n",
        "plt.figure(figsize=(8, 8))\n",
        "plt.subplot(1, 2, 1)\n",
        "plt.plot(epochs_range, acc, label='Training Accuracy')\n",
        "plt.plot(epochs_range, val_acc, label='Validation Accuracy')\n",
        "plt.legend(loc='lower right')\n",
        "plt.title('Training and Validation Accuracy')\n",
        "\n",
        "plt.subplot(1, 2, 2)\n",
        "plt.plot(epochs_range, loss, label='Training Loss')\n",
        "plt.plot(epochs_range, val_loss, label='Validation Loss')\n",
        "plt.legend(loc='upper right')\n",
        "plt.title('Training and Validation Loss')\n",
        "plt.show()"
      ],
      "execution_count": 34,
      "outputs": [
        {
          "output_type": "display_data",
          "data": {
            "image/png": "[encoded data removed]",
            "text/plain": [
              "<Figure size 576x576 with 2 Axes>"
            ]
          },
          "metadata": {
            "tags": [],
            "needs_background": "light"
          }
        }
      ]
    }
  ]
}